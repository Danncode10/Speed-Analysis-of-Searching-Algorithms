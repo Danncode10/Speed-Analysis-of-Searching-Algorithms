{
 "cells": [
  {
   "cell_type": "markdown",
   "id": "53e687aa",
   "metadata": {},
   "source": [
    "# Speed Analysis of Searching Algorithms\n",
    "\n",
    "## Introduction\n",
    "This document presents a performance comparison of different searching algorithms. The goal is to determine the speed of each algorithm under varying conditions.\n",
    "\n",
    "## Searching Algorithms Considered\n",
    "- **Linear Search**\n",
    "- **Binary Search**\n",
    "- **Jump Search**\n",
    "- **Interpolation Search**\n",
    "- **Exponential Search**\n",
    "- **Fibonacci Search**\n",
    "- **Ternary Search**\n",
    "- **Hashing-based Search**\n",
    "- **Depth-First Search (DFS)**\n",
    "- **Breadth-First Search (BFS)**\n",
    "\n",
    "## Methodology\n",
    "### General Steps in Jupyter Notebook\n",
    "1. **Generate Random Data and Save to CSV**\n",
    "   - Generate 100 random integers between 1 and 100.\n",
    "   - Save the dataset as a CSV file.\n",
    "2. **Load Data from CSV**\n",
    "   - Read the dataset from the CSV file into a list.\n",
    "3. **Implement Sorting Algorithms**\n",
    "   - Implement multiple sorting algorithms (e.g., Bubble Sort, Quick Sort, Merge Sort, Insertion Sort, etc.).\n",
    "   - Measure the execution time for each sorting algorithm.\n",
    "4. **Search for a Random Key**\n",
    "   - Generate a random number from 1 to 100 as the search key.\n",
    "   - Implement searching algorithms (e.g., Linear Search, Binary Search, etc.).\n",
    "   - Measure the execution time for each search algorithm.\n",
    "5. **Store Execution Times**\n",
    "   - Store sorting and searching execution times in a structured format.\n",
    "6. **Visualize Results**\n",
    "   - Use matplotlib to plot a line graph comparing the execution times of different sorting and searching algorithms.\n",
    "\n",
    "## Results\n",
    "| Algorithm               | Best Case Time Complexity | Average Case Time Complexity | Worst Case Time Complexity |\n",
    "|-------------------------|--------------------------|-----------------------------|----------------------------|\n",
    "| Linear Search          | O(1)                      | O(n)                        | O(n)                        |\n",
    "| Binary Search          | O(1)                      | O(log n)                    | O(log n)                    |\n",
    "| Jump Search            | O(1)                      | O(√n)                        | O(√n)                        |\n",
    "| Interpolation Search   | O(1)                      | O(log log n)                 | O(n)                         |\n",
    "| Exponential Search     | O(1)                      | O(log n)                     | O(log n)                     |\n",
    "| Fibonacci Search       | O(1)                      | O(log n)                     | O(log n)                     |\n",
    "| Ternary Search         | O(1)                      | O(log n)                     | O(log n)                     |\n",
    "| Hashing-based Search   | O(1)                      | O(1)                         | O(n)                         |\n",
    "| Depth-First Search     | O(1)                      | O(V + E)                     | O(V + E)                     |\n",
    "| Breadth-First Search   | O(1)                      | O(V + E)                     | O(V + E)                     |\n"
   ]
  },
  {
   "cell_type": "markdown",
   "id": "946ae8c0",
   "metadata": {},
   "source": [
    "## Step 1: Generate Random Data and Save to CSV\n",
    "\n",
    "- Generate 100 random integers between 1 and 10000.\n",
    "- Save the dataset as a CSV file."
   ]
  },
  {
   "cell_type": "code",
   "execution_count": 38,
   "id": "661f0aa2",
   "metadata": {},
   "outputs": [
    {
     "name": "stdout",
     "output_type": "stream",
     "text": [
      "CSV file 'random_numbers.csv' has been created successfully.\n"
     ]
    }
   ],
   "source": [
    "import csv\n",
    "import random\n",
    "\n",
    "# Set random seed for reproducibility\n",
    "random.seed(0)\n",
    "\n",
    "# Generate 10000 random integers between 1 and 100\n",
    "data = [random.randint(1, 10000) for _ in range(10000)]\n",
    "\n",
    "# Save to CSV file\n",
    "filename = \"random_numbers.csv\"\n",
    "with open(filename, mode=\"w\", newline=\"\") as file:\n",
    "    writer = csv.writer(file)\n",
    "    writer.writerow([\"Number\"])  # Write header\n",
    "    for num in data:\n",
    "        writer.writerow([num])\n",
    "\n",
    "print(f\"CSV file '{filename}' has been created successfully.\")"
   ]
  },
  {
   "cell_type": "markdown",
   "id": "34b63673",
   "metadata": {},
   "source": [
    "## Step 2: Load Data from CSV\n",
    "\n",
    "- Read the dataset from the CSV file into a list.\n",
    "- Verify that the data has been loaded correctly."
   ]
  },
  {
   "cell_type": "code",
   "execution_count": 39,
   "id": "bf0ad30a",
   "metadata": {},
   "outputs": [
    {
     "name": "stdout",
     "output_type": "stream",
     "text": [
      "Data loaded from CSV: [6312, 6891, 664, 4243, 8377, 7962, 6635, 4970, 7809, 5867] ...\n"
     ]
    }
   ],
   "source": [
    "import csv\n",
    "\n",
    "loaded_data = []\n",
    "with open(\"random_numbers.csv\", mode=\"r\") as file:\n",
    "    reader = csv.reader(file)\n",
    "    next(reader)  # Skip header\n",
    "    loaded_data = [int(row[0]) for row in reader]\n",
    "\n",
    "print(\"Data loaded from CSV:\", loaded_data[:10], \"...\")  # Display first 10 numbers\n"
   ]
  },
  {
   "cell_type": "markdown",
   "id": "0a571c82",
   "metadata": {},
   "source": [
    "## Step 3: Implement Searching Algorithms\n",
    "\n",
    "- Implement multiple searching algorithms.\n",
    "- Measure the execution time for each searching algorithm."
   ]
  },
  {
   "cell_type": "code",
   "execution_count": 40,
   "id": "52e076bc",
   "metadata": {},
   "outputs": [],
   "source": [
    "import math  \n",
    "\n",
    "# 1. Linear Search\n",
    "def linear_search(arr, key):\n",
    "    for i in range(len(arr)):\n",
    "        if arr[i] == key:\n",
    "            return i\n",
    "    return -1\n",
    "\n",
    "# 2. Binary Search (requires sorted array)\n",
    "def binary_search(arr, key):\n",
    "    left, right = 0, len(arr) - 1\n",
    "    while left <= right:\n",
    "        mid = (left + right) // 2\n",
    "        if arr[mid] == key:\n",
    "            return mid\n",
    "        elif arr[mid] < key:\n",
    "            left = mid + 1\n",
    "        else:\n",
    "            right = mid - 1\n",
    "    return -1\n",
    "\n",
    "# 3. Jump Search (requires sorted array)\n",
    "def jump_search(arr, key):\n",
    "    n = len(arr)\n",
    "    step = int(math.sqrt(n))\n",
    "    prev, curr = 0, 0\n",
    "    while curr < n and arr[curr] < key:\n",
    "        prev = curr\n",
    "        curr += step\n",
    "    for i in range(prev, min(curr, n)):\n",
    "        if arr[i] == key:\n",
    "            return i\n",
    "    return -1\n",
    "\n",
    "# 4. Interpolation Search (requires sorted array)\n",
    "def interpolation_search(arr, key):\n",
    "    low, high = 0, len(arr) - 1\n",
    "    while low <= high and key >= arr[low] and key <= arr[high]:\n",
    "        pos = low + ((key - arr[low]) * (high - low) // (arr[high] - arr[low]))\n",
    "        if arr[pos] == key:\n",
    "            return pos\n",
    "        if arr[pos] < key:\n",
    "            low = pos + 1\n",
    "        else:\n",
    "            high = pos - 1\n",
    "    return -1\n",
    "\n",
    "# 5. Exponential Search (requires sorted array)\n",
    "def exponential_search(arr, key):\n",
    "    if arr[0] == key:\n",
    "        return 0\n",
    "    i = 1\n",
    "    while i < len(arr) and arr[i] <= key:\n",
    "        i *= 2\n",
    "    return binary_search(arr[:min(i, len(arr))], key)\n",
    "\n",
    "# 6. Fibonacci Search (requires sorted array)\n",
    "def fibonacci_search(arr, key):\n",
    "    fib2, fib1 = 0, 1  # (fibM-2), (fibM-1)\n",
    "    fibM = fib2 + fib1  # Fibonacci number\n",
    "\n",
    "    n = len(arr)\n",
    "\n",
    "    # Find the smallest Fibonacci number greater than or equal to n\n",
    "    while fibM < n:\n",
    "        fib2, fib1 = fib1, fibM\n",
    "        fibM = fib2 + fib1\n",
    "\n",
    "    offset = -1  # Marks eliminated range\n",
    "\n",
    "    while fibM > 1:\n",
    "        i = min(offset + fib2, n - 1)\n",
    "\n",
    "        if arr[i] < key:\n",
    "            fibM = fib1\n",
    "            fib1 = fib2\n",
    "            fib2 = fibM - fib1\n",
    "            offset = i\n",
    "        elif arr[i] > key:\n",
    "            fibM = fib2\n",
    "            fib1 -= fib2\n",
    "            fib2 = fibM - fib1\n",
    "        else:\n",
    "            return i  # Found the key\n",
    "\n",
    "    # Check the last element\n",
    "    if fib1 and offset + 1 < n and arr[offset + 1] == key:\n",
    "        return offset + 1\n",
    "\n",
    "    return -1  # Not found\n",
    "\n",
    "\n",
    "# 7. Ternary Search (requires sorted array)\n",
    "def ternary_search(arr, key, left, right):\n",
    "    if left > right:\n",
    "        return -1\n",
    "    mid1 = left + (right - left) // 3\n",
    "    mid2 = right - (right - left) // 3\n",
    "    if arr[mid1] == key:\n",
    "        return mid1\n",
    "    if arr[mid2] == key:\n",
    "        return mid2\n",
    "    if key < arr[mid1]:\n",
    "        return ternary_search(arr, key, left, mid1 - 1)\n",
    "    elif key > arr[mid2]:\n",
    "        return ternary_search(arr, key, mid2 + 1, right)\n",
    "    else:\n",
    "        return ternary_search(arr, key, mid1 + 1, mid2 - 1)\n",
    "\n",
    "# 8. Hashing-based Search\n",
    "def hashing_based_search(arr, key):\n",
    "    hash_table = {num: i for i, num in enumerate(arr)}\n",
    "    return hash_table.get(key, -1)\n",
    "\n",
    "# 9. Depth-First Search (DFS) (for graph-based data)\n",
    "def dfs(graph, node, visited=None):\n",
    "    if visited is None:\n",
    "        visited = set()\n",
    "    if node in visited:\n",
    "        return\n",
    "    visited.add(node)\n",
    "    for neighbor in graph.get(node, []):\n",
    "        dfs(graph, neighbor, visited)\n",
    "    return visited\n",
    "\n",
    "# 10. Breadth-First Search (BFS) (for graph-based data)\n",
    "from collections import deque\n",
    "def bfs(graph, start):\n",
    "    visited = set()\n",
    "    queue = deque([start])\n",
    "    while queue:\n",
    "        node = queue.popleft()\n",
    "        if node not in visited:\n",
    "            visited.add(node)\n",
    "            queue.extend(graph.get(node, []))\n",
    "    return visited\n"
   ]
  },
  {
   "cell_type": "markdown",
   "id": "15a7833e",
   "metadata": {},
   "source": [
    "## Step 4: Search for a Random Key\n",
    "\n",
    "- Generate a random number between 1 and 100 as the search key.\n",
    "- Apply all searching algorithms.\n",
    "- Measure the execution time for each search algorithm."
   ]
  },
  {
   "cell_type": "code",
   "execution_count": 41,
   "id": "cf3f0c22",
   "metadata": {},
   "outputs": [
    {
     "name": "stdout",
     "output_type": "stream",
     "text": [
      "Search Key: 18\n"
     ]
    }
   ],
   "source": [
    "import random\n",
    "\n",
    "random.seed(1)\n",
    "\n",
    "# Step 4: Generate a random key to search\n",
    "search_key = random.randint(1, 100)\n",
    "print(f\"Search Key: {search_key}\")\n"
   ]
  },
  {
   "cell_type": "markdown",
   "id": "edd05279",
   "metadata": {},
   "source": [
    "## Step 5: Measure Execution Time of Each Search Algorithm\n",
    "\n",
    "- Create a function to measurem execution time.\n",
    "- Store execution times in variables.\n",
    "- Print the speed of each algorithm."
   ]
  },
  {
   "cell_type": "code",
   "execution_count": 42,
   "id": "a8c58dce",
   "metadata": {},
   "outputs": [],
   "source": [
    "sorted_data = sorted(loaded_data)  # Ensure data is sorted"
   ]
  },
  {
   "cell_type": "code",
   "execution_count": 43,
   "id": "021504e5",
   "metadata": {},
   "outputs": [],
   "source": [
    "import time\n",
    "\n",
    "# Function to measure execution time of search algorithms\n",
    "def measure_time(search_function, data, key, *args):\n",
    "    start_time = time.time()\n",
    "    result = search_function(data, key, *args)  # Run the search function\n",
    "    end_time = time.time()\n",
    "    return (end_time - start_time) * 1000  # Convert to milliseconds\n"
   ]
  },
  {
   "cell_type": "code",
   "execution_count": 44,
   "id": "57e918ff",
   "metadata": {},
   "outputs": [
    {
     "name": "stdout",
     "output_type": "stream",
     "text": [
      "Execution Time of Each Search Algorithm (in ms):\n",
      "Linear Search: 0.175714 ms\n",
      "Binary Search: 0.010014 ms\n",
      "Jump Search: 0.010014 ms\n",
      "Interpolation Search: 0.008106 ms\n",
      "Exponential Search: 0.006199 ms\n",
      "Fibonacci Search: 0.011921 ms\n",
      "Ternary Search: 0.008821 ms\n",
      "Hashing-based Search: 1.418829 ms\n"
     ]
    }
   ],
   "source": [
    "\n",
    "# Dictionary to store execution times\n",
    "execution_times = {}\n",
    "\n",
    "# Measure time for each search algorithm\n",
    "execution_times[\"Linear Search\"] = measure_time(linear_search, loaded_data, search_key)\n",
    "execution_times[\"Binary Search\"] = measure_time(binary_search, sorted_data, search_key)\n",
    "execution_times[\"Jump Search\"] = measure_time(jump_search, sorted_data, search_key)\n",
    "execution_times[\"Interpolation Search\"] = measure_time(interpolation_search, sorted_data, search_key)\n",
    "execution_times[\"Exponential Search\"] = measure_time(exponential_search, sorted_data, search_key)\n",
    "execution_times[\"Fibonacci Search\"] = measure_time(fibonacci_search, sorted_data, search_key)\n",
    "execution_times[\"Ternary Search\"] = measure_time(ternary_search, sorted_data, search_key, 0, len(sorted_data) - 1)\n",
    "execution_times[\"Hashing-based Search\"] = measure_time(hashing_based_search, loaded_data, search_key)\n",
    "\n",
    "\n",
    "# Print the execution times\n",
    "print(\"Execution Time of Each Search Algorithm (in ms):\")\n",
    "for algo, time_taken in execution_times.items():\n",
    "    print(f\"{algo}: {time_taken:.6f} ms\")\n"
   ]
  },
  {
   "cell_type": "markdown",
   "id": "6c0daa6b",
   "metadata": {},
   "source": [
    "## Step 6: Store Execution Times in a Table\n",
    "\n",
    "- Use `pandas` DataFrame to store execution times in a structured format.\n",
    "- Display the results in a table.\n"
   ]
  },
  {
   "cell_type": "code",
   "execution_count": 46,
   "id": "46d27a56",
   "metadata": {},
   "outputs": [
    {
     "data": {
      "text/html": [
       "<div>\n",
       "<style scoped>\n",
       "    .dataframe tbody tr th:only-of-type {\n",
       "        vertical-align: middle;\n",
       "    }\n",
       "\n",
       "    .dataframe tbody tr th {\n",
       "        vertical-align: top;\n",
       "    }\n",
       "\n",
       "    .dataframe thead th {\n",
       "        text-align: right;\n",
       "    }\n",
       "</style>\n",
       "<table border=\"1\" class=\"dataframe\">\n",
       "  <thead>\n",
       "    <tr style=\"text-align: right;\">\n",
       "      <th></th>\n",
       "      <th>Algorithm</th>\n",
       "      <th>Execution Time (ms)</th>\n",
       "    </tr>\n",
       "  </thead>\n",
       "  <tbody>\n",
       "    <tr>\n",
       "      <th>0</th>\n",
       "      <td>Linear Search</td>\n",
       "      <td>0.175714</td>\n",
       "    </tr>\n",
       "    <tr>\n",
       "      <th>1</th>\n",
       "      <td>Binary Search</td>\n",
       "      <td>0.010014</td>\n",
       "    </tr>\n",
       "    <tr>\n",
       "      <th>2</th>\n",
       "      <td>Jump Search</td>\n",
       "      <td>0.010014</td>\n",
       "    </tr>\n",
       "    <tr>\n",
       "      <th>3</th>\n",
       "      <td>Interpolation Search</td>\n",
       "      <td>0.008106</td>\n",
       "    </tr>\n",
       "    <tr>\n",
       "      <th>4</th>\n",
       "      <td>Exponential Search</td>\n",
       "      <td>0.006199</td>\n",
       "    </tr>\n",
       "    <tr>\n",
       "      <th>5</th>\n",
       "      <td>Fibonacci Search</td>\n",
       "      <td>0.011921</td>\n",
       "    </tr>\n",
       "    <tr>\n",
       "      <th>6</th>\n",
       "      <td>Ternary Search</td>\n",
       "      <td>0.008821</td>\n",
       "    </tr>\n",
       "    <tr>\n",
       "      <th>7</th>\n",
       "      <td>Hashing-based Search</td>\n",
       "      <td>1.418829</td>\n",
       "    </tr>\n",
       "  </tbody>\n",
       "</table>\n",
       "</div>"
      ],
      "text/plain": [
       "              Algorithm  Execution Time (ms)\n",
       "0         Linear Search             0.175714\n",
       "1         Binary Search             0.010014\n",
       "2           Jump Search             0.010014\n",
       "3  Interpolation Search             0.008106\n",
       "4    Exponential Search             0.006199\n",
       "5      Fibonacci Search             0.011921\n",
       "6        Ternary Search             0.008821\n",
       "7  Hashing-based Search             1.418829"
      ]
     },
     "execution_count": 46,
     "metadata": {},
     "output_type": "execute_result"
    }
   ],
   "source": [
    "import pandas as pd\n",
    "\n",
    "# Convert execution times into a DataFrame\n",
    "df_execution_times = pd.DataFrame(execution_times.items(), columns=[\"Algorithm\", \"Execution Time (ms)\"])\n",
    "\n",
    "# Display the table\n",
    "df_execution_times\n"
   ]
  },
  {
   "cell_type": "markdown",
   "id": "34a53b1e",
   "metadata": {},
   "source": [
    "## Step 7: Visualize Results\n",
    "\n",
    "- Use `matplotlib` to plot a line graph.\n",
    "- Compare execution times of different searching algorithms."
   ]
  },
  {
   "cell_type": "code",
   "execution_count": 47,
   "id": "5de4158e",
   "metadata": {},
   "outputs": [
    {
     "data": {
      "image/png": "[encoded data removed]",
      "text/plain": [
       "<Figure size 1200x600 with 1 Axes>"
      ]
     },
     "metadata": {},
     "output_type": "display_data"
    }
   ],
   "source": [
    "import matplotlib.pyplot as plt\n",
    "\n",
    "# Plot the execution times\n",
    "plt.figure(figsize=(12, 6))\n",
    "plt.plot(df_execution_times[\"Algorithm\"], df_execution_times[\"Execution Time (ms)\"], marker='o', linestyle='-', color='b')\n",
    "\n",
    "# Customize the graph\n",
    "plt.xlabel(\"Search Algorithm\")\n",
    "plt.ylabel(\"Execution Time (ms)\")\n",
    "plt.title(\"Comparison of Search Algorithm Execution Times\")\n",
    "plt.xticks(rotation=45)  # Rotate x-axis labels for readability\n",
    "plt.grid(True)\n",
    "\n",
    "# Show the plot\n",
    "plt.show()\n"
   ]
  },
  {
   "cell_type": "markdown",
   "id": "f856b7ac",
   "metadata": {},
   "source": [
    "---\n",
    "# Conclusion  \n",
    "\n",
    "The performance of different searching algorithms varies significantly. Here’s a summary of the key findings:  \n",
    "\n",
    "### 🔴 Slowest Algorithm  \n",
    "- **Hashing-based Search** took **1.418829 ms**, making it the slowest in this test.  \n",
    "- This could be due to hash table overhead or collisions, but in real-world applications, hashing is usually faster for direct lookups.  \n",
    "\n",
    "### 🟡 Inefficient Algorithm  \n",
    "- **Linear Search** took **0.175714 ms**, which is much slower than other methods.  \n",
    "- Since it checks each element one by one, it’s not ideal for large datasets.  \n",
    "\n",
    "### 🟢 Fast and Efficient Algorithms  \n",
    "- **Binary Search (0.010014 ms)** and **Jump Search (0.010014 ms)** performed well, making them reliable choices for sorted data.  \n",
    "- **Interpolation Search (0.008106 ms)** and **Ternary Search (0.008821 ms)** were slightly faster, showing good efficiency.  \n",
    "- **Fibonacci Search (0.011921 ms)** was similar in performance to binary search but didn’t offer significant advantages.  \n",
    "- **Exponential Search (0.006199 ms)** was the fastest, making it a great choice for sorted datasets, especially when the search key is found early.  \n",
    "\n",
    "### ✅ Final Thoughts  \n",
    "- If your data **is not sorted**, avoid linear search—it’s too slow.  \n",
    "- If your data **is sorted**, **binary, jump, interpolation, or exponential search** are excellent choices.  \n",
    "- Hashing-based search may seem slow in this test, but with proper optimization, it’s one of the best methods for quick lookups in real-world applications.  \n",
    "\n",
    "### 🚀 Recommendation  \n",
    "Use **binary search** for general sorted data and **hashing** for key-value lookups when hashing is optimized.  \n"
   ]
  },
  {
   "cell_type": "markdown",
   "id": "0e0e3986",
   "metadata": {},
   "source": []
  }
 ],
 "metadata": {
  "kernelspec": {
   "display_name": "Python 3 (ipykernel)",
   "language": "python",
   "name": "python3"
  },
  "language_info": {
   "codemirror_mode": {
    "name": "ipython",
    "version": 3
   },
   "file_extension": ".py",
   "mimetype": "text/x-python",
   "name": "python",
   "nbconvert_exporter": "python",
   "pygments_lexer": "ipython3",
   "version": "3.12.8"
  }
 },
 "nbformat": 4,
 "nbformat_minor": 5
}
